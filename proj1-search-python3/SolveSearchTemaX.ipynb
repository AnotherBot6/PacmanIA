{
 "cells": [
  {
   "cell_type": "markdown",
   "metadata": {},
   "source": [
    "\n",
    "# Q1"
   ]
  },
  {
   "cell_type": "code",
   "execution_count": 2,
   "metadata": {},
   "outputs": [],
   "source": [
    "from os import system"
   ]
  },
  {
   "cell_type": "code",
   "execution_count": 6,
   "metadata": {},
   "outputs": [
    {
     "name": "stdout",
     "output_type": "stream",
     "text": [
      "['[SearchAgent] using function tinyMazeSearch', '[SearchAgent] using problem type PositionSearchProblem', 'Path found with total cost of 8 in 0.0 seconds', 'Search nodes expanded: 0', 'Pacman emerges victorious! Score: 502', 'Average Score: 502.0', 'Scores:        502.0', 'Win Rate:      1/1 (1.00)', 'Record:        Win']\n"
     ]
    }
   ],
   "source": [
    "output = !python pacman.py -l tinyMaze -p SearchAgent -a fn=tinyMazeSearch 2>&1\n",
    "print(output)"
   ]
  },
  {
   "cell_type": "code",
   "execution_count": 7,
   "metadata": {},
   "outputs": [
    {
     "name": "stdout",
     "output_type": "stream",
     "text": [
      "['[SearchAgent] using function depthFirstSearch', '[SearchAgent] using problem type PositionSearchProblem', 'Path found with total cost of 10 in 0.0 seconds', 'Search nodes expanded: 15', 'Pacman emerges victorious! Score: 500', 'Average Score: 500.0', 'Scores:        500.0', 'Win Rate:      1/1 (1.00)', 'Record:        Win']\n"
     ]
    }
   ],
   "source": [
    "output = !python pacman.py -l tinyMaze -p SearchAgent 2>&1\n",
    "print(output)"
   ]
  },
  {
   "cell_type": "code",
   "execution_count": 8,
   "metadata": {},
   "outputs": [
    {
     "name": "stdout",
     "output_type": "stream",
     "text": [
      "['[SearchAgent] using function depthFirstSearch', '[SearchAgent] using problem type PositionSearchProblem', 'Path found with total cost of 130 in 0.0 seconds', 'Search nodes expanded: 146', 'Pacman emerges victorious! Score: 380', 'Average Score: 380.0', 'Scores:        380.0', 'Win Rate:      1/1 (1.00)', 'Record:        Win']\n"
     ]
    }
   ],
   "source": [
    "output = !python pacman.py -l mediumMaze -p SearchAgent 2>&1\n",
    "print(output)"
   ]
  },
  {
   "cell_type": "code",
   "execution_count": 5,
   "metadata": {},
   "outputs": [
    {
     "name": "stdout",
     "output_type": "stream",
     "text": [
      "^C\n",
      "[]\n"
     ]
    }
   ],
   "source": [
    "output = !python pacman.py -l bigMaze -z .5 -p SearchAgent 2>&1\n",
    "print(output)"
   ]
  },
  {
   "cell_type": "markdown",
   "metadata": {},
   "source": [
    "# Q2"
   ]
  },
  {
   "cell_type": "code",
   "execution_count": 10,
   "metadata": {},
   "outputs": [
    {
     "name": "stdout",
     "output_type": "stream",
     "text": [
      "['[SearchAgent] using function bfs', '[SearchAgent] using problem type PositionSearchProblem', 'Path found with total cost of 68 in 0.0 seconds', 'Search nodes expanded: 269', 'Pacman emerges victorious! Score: 442', 'Average Score: 442.0', 'Scores:        442.0', 'Win Rate:      1/1 (1.00)', 'Record:        Win']\n"
     ]
    }
   ],
   "source": [
    "output = !python pacman.py -l mediumMaze -p SearchAgent -a fn=bfs 2>&1\n",
    "print(output)"
   ]
  },
  {
   "cell_type": "code",
   "execution_count": null,
   "metadata": {},
   "outputs": [
    {
     "name": "stdout",
     "output_type": "stream",
     "text": [
      "['[SearchAgent] using function bfs', '[SearchAgent] using problem type PositionSearchProblem', 'Path found with total cost of 210 in 0.0 seconds', 'Search nodes expanded: 620', 'Pacman emerges victorious! Score: 300', 'Average Score: 300.0', 'Scores:        300.0', 'Win Rate:      1/1 (1.00)', 'Record:        Win']\n"
     ]
    }
   ],
   "source": [
    "output = !python pacman.py -l bigMaze -p SearchAgent -a fn=bfs -z .5 2>&1\n",
    "print(output)"
   ]
  },
  {
   "cell_type": "markdown",
   "metadata": {},
   "source": [
    "# Q3"
   ]
  },
  {
   "cell_type": "code",
   "execution_count": 11,
   "metadata": {},
   "outputs": [
    {
     "name": "stdout",
     "output_type": "stream",
     "text": [
      "['[SearchAgent] using function ucs', '[SearchAgent] using problem type PositionSearchProblem', 'Path found with total cost of 68 in 0.0 seconds', 'Search nodes expanded: 269', 'Pacman emerges victorious! Score: 442', 'Average Score: 442.0', 'Scores:        442.0', 'Win Rate:      1/1 (1.00)', 'Record:        Win']\n"
     ]
    }
   ],
   "source": [
    "output = !python pacman.py -l mediumMaze -p SearchAgent -a fn=ucs\n",
    "print(output)"
   ]
  },
  {
   "cell_type": "code",
   "execution_count": null,
   "metadata": {},
   "outputs": [
    {
     "name": "stdout",
     "output_type": "stream",
     "text": [
      "['Path found with total cost of 1 in 0.0 seconds', 'Search nodes expanded: 186', 'Pacman emerges victorious! Score: 646', 'Average Score: 646.0', 'Scores:        646.0', 'Win Rate:      1/1 (1.00)', 'Record:        Win']\n"
     ]
    }
   ],
   "source": [
    "output = !python pacman.py -l mediumDottedMaze -p StayEastSearchAgent 2>&1\n",
    "print(output)"
   ]
  },
  {
   "cell_type": "code",
   "execution_count": null,
   "metadata": {},
   "outputs": [
    {
     "name": "stdout",
     "output_type": "stream",
     "text": [
      "['Path found with total cost of 68719479864 in 0.0 seconds', 'Search nodes expanded: 108', 'Pacman emerges victorious! Score: 418', 'Average Score: 418.0', 'Scores:        418.0', 'Win Rate:      1/1 (1.00)', 'Record:        Win']\n"
     ]
    }
   ],
   "source": [
    "output = !python pacman.py -l mediumScaryMaze -p StayWestSearchAgent 2>&1\n",
    "print(output)"
   ]
  },
  {
   "cell_type": "markdown",
   "metadata": {},
   "source": [
    "# Q4"
   ]
  },
  {
   "cell_type": "code",
   "execution_count": 6,
   "metadata": {},
   "outputs": [
    {
     "name": "stdout",
     "output_type": "stream",
     "text": [
      "['[SearchAgent] using function astar and heuristic manhattanHeuristic', '[SearchAgent] using problem type PositionSearchProblem', 'Path found with total cost of 210 in 0.0 seconds', 'Search nodes expanded: 549']\n"
     ]
    }
   ],
   "source": [
    "output = !python pacman.py -l bigMaze -z .5 -p SearchAgent -a fn=astar,heuristic=manhattanHeuristic 2>&1\n",
    "print(output)"
   ]
  },
  {
   "cell_type": "markdown",
   "metadata": {},
   "source": [
    "# Q5"
   ]
  },
  {
   "cell_type": "code",
   "execution_count": 2,
   "metadata": {},
   "outputs": [
    {
     "name": "stdout",
     "output_type": "stream",
     "text": [
      "['[SearchAgent] using function bfs', '[SearchAgent] using problem type CornersProblem', 'Path found with total cost of 28 in 0.0 seconds', 'Search nodes expanded: 252', 'Pacman emerges victorious! Score: 512', 'Average Score: 512.0', 'Scores:        512.0', 'Win Rate:      1/1 (1.00)', 'Record:        Win']\n"
     ]
    }
   ],
   "source": [
    "output = !python pacman.py -l tinyCorners -p SearchAgent -a fn=bfs,prob=CornersProblem 2>&1\n",
    "print(output)"
   ]
  },
  {
   "cell_type": "code",
   "execution_count": 3,
   "metadata": {},
   "outputs": [
    {
     "name": "stdout",
     "output_type": "stream",
     "text": [
      "['[SearchAgent] using function bfs', '[SearchAgent] using problem type CornersProblem', 'Path found with total cost of 106 in 0.1 seconds', 'Search nodes expanded: 1966', 'Pacman emerges victorious! Score: 434', 'Average Score: 434.0', 'Scores:        434.0', 'Win Rate:      1/1 (1.00)', 'Record:        Win']\n"
     ]
    }
   ],
   "source": [
    "output = !python pacman.py -l mediumCorners -p SearchAgent -a fn=bfs,prob=CornersProblem 2>&1\n",
    "print(output)"
   ]
  },
  {
   "cell_type": "markdown",
   "metadata": {},
   "source": []
  },
  {
   "cell_type": "markdown",
   "metadata": {},
   "source": [
    "# Q6"
   ]
  },
  {
   "cell_type": "code",
   "execution_count": 6,
   "metadata": {},
   "outputs": [
    {
     "name": "stdout",
     "output_type": "stream",
     "text": [
      "['Path found with total cost of 106 in 0.0 seconds', 'Search nodes expanded: 692', 'Pacman emerges victorious! Score: 434', 'Average Score: 434.0', 'Scores:        434.0', 'Win Rate:      1/1 (1.00)', 'Record:        Win']\n"
     ]
    }
   ],
   "source": [
    "output = !python pacman.py -l mediumCorners -p AStarCornersAgent -z 0.5 2>&1\n",
    "print(output)"
   ]
  },
  {
   "cell_type": "markdown",
   "metadata": {},
   "source": [
    "# Q7"
   ]
  },
  {
   "cell_type": "code",
   "execution_count": 7,
   "metadata": {},
   "outputs": [
    {
     "name": "stdout",
     "output_type": "stream",
     "text": [
      "['Path found with total cost of 7 in 0.0 seconds', 'Search nodes expanded: 12', 'Pacman emerges victorious! Score: 513', 'Average Score: 513.0', 'Scores:        513.0', 'Win Rate:      1/1 (1.00)', 'Record:        Win']\n"
     ]
    }
   ],
   "source": [
    "output = !python pacman.py -l testSearch -p AStarFoodSearchAgent 2>&1\n",
    "print(output)"
   ]
  },
  {
   "cell_type": "code",
   "execution_count": 8,
   "metadata": {},
   "outputs": [
    {
     "name": "stdout",
     "output_type": "stream",
     "text": [
      "['Path found with total cost of 60 in 2.7 seconds', 'Search nodes expanded: 6126', 'Pacman emerges victorious! Score: 570', 'Average Score: 570.0', 'Scores:        570.0', 'Win Rate:      1/1 (1.00)', 'Record:        Win']\n"
     ]
    }
   ],
   "source": [
    "output = !python pacman.py -l trickySearch -p AStarFoodSearchAgent 2>&1\n",
    "print(output)"
   ]
  },
  {
   "cell_type": "markdown",
   "metadata": {},
   "source": [
    "# Q8"
   ]
  },
  {
   "cell_type": "code",
   "execution_count": 9,
   "metadata": {},
   "outputs": [
    {
     "name": "stdout",
     "output_type": "stream",
     "text": [
      "['[SearchAgent] using function depthFirstSearch', '[SearchAgent] using problem type PositionSearchProblem', 'Path found with cost 350.', 'Pacman emerges victorious! Score: 2360', 'Average Score: 2360.0', 'Scores:        2360.0', 'Win Rate:      1/1 (1.00)', 'Record:        Win']\n"
     ]
    }
   ],
   "source": [
    "output = !python pacman.py -l bigSearch -p ClosestDotSearchAgent -z .5  2>&1\n",
    "print(output)"
   ]
  }
 ],
 "metadata": {
  "kernelspec": {
   "display_name": "Python 3",
   "language": "python",
   "name": "python3"
  },
  "language_info": {
   "codemirror_mode": {
    "name": "ipython",
    "version": 3
   },
   "file_extension": ".py",
   "mimetype": "text/x-python",
   "name": "python",
   "nbconvert_exporter": "python",
   "pygments_lexer": "ipython3",
   "version": "3.11.5"
  }
 },
 "nbformat": 4,
 "nbformat_minor": 2
}
