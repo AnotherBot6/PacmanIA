{
 "cells": [
  {
   "cell_type": "markdown",
   "metadata": {},
   "source": [
    "\n",
    "# Q1"
   ]
  },
  {
   "cell_type": "code",
   "execution_count": 2,
   "metadata": {},
   "outputs": [],
   "source": [
    "from os import system"
   ]
  },
  {
   "cell_type": "code",
   "execution_count": 6,
   "metadata": {},
   "outputs": [
    {
     "name": "stdout",
     "output_type": "stream",
     "text": [
      "['[SearchAgent] using function tinyMazeSearch', '[SearchAgent] using problem type PositionSearchProblem', 'Path found with total cost of 8 in 0.0 seconds', 'Search nodes expanded: 0', 'Pacman emerges victorious! Score: 502', 'Average Score: 502.0', 'Scores:        502.0', 'Win Rate:      1/1 (1.00)', 'Record:        Win']\n"
     ]
    }
   ],
   "source": [
    "output = !python pacman.py -l tinyMaze -p SearchAgent -a fn=tinyMazeSearch 2>&1\n",
    "print(output)"
   ]
  },
  {
   "cell_type": "code",
   "execution_count": 7,
   "metadata": {},
   "outputs": [
    {
     "name": "stdout",
     "output_type": "stream",
     "text": [
      "['[SearchAgent] using function depthFirstSearch', '[SearchAgent] using problem type PositionSearchProblem', 'Path found with total cost of 10 in 0.0 seconds', 'Search nodes expanded: 15', 'Pacman emerges victorious! Score: 500', 'Average Score: 500.0', 'Scores:        500.0', 'Win Rate:      1/1 (1.00)', 'Record:        Win']\n"
     ]
    }
   ],
   "source": [
    "output = !python pacman.py -l tinyMaze -p SearchAgent 2>&1\n",
    "print(output)"
   ]
  },
  {
   "cell_type": "code",
   "execution_count": 8,
   "metadata": {},
   "outputs": [
    {
     "name": "stdout",
     "output_type": "stream",
     "text": [
      "['[SearchAgent] using function depthFirstSearch', '[SearchAgent] using problem type PositionSearchProblem', 'Path found with total cost of 130 in 0.0 seconds', 'Search nodes expanded: 146', 'Pacman emerges victorious! Score: 380', 'Average Score: 380.0', 'Scores:        380.0', 'Win Rate:      1/1 (1.00)', 'Record:        Win']\n"
     ]
    }
   ],
   "source": [
    "output = !python pacman.py -l mediumMaze -p SearchAgent 2>&1\n",
    "print(output)"
   ]
  },
  {
   "cell_type": "code",
   "execution_count": 5,
   "metadata": {},
   "outputs": [
    {
     "name": "stdout",
     "output_type": "stream",
     "text": [
      "^C\n",
      "[]\n"
     ]
    }
   ],
   "source": [
    "output = !python pacman.py -l bigMaze -z .5 -p SearchAgent 2>&1\n",
    "print(output)"
   ]
  },
  {
   "cell_type": "markdown",
   "metadata": {},
   "source": [
    "# Q2"
   ]
  },
  {
   "cell_type": "code",
   "execution_count": 10,
   "metadata": {},
   "outputs": [
    {
     "name": "stdout",
     "output_type": "stream",
     "text": [
      "['[SearchAgent] using function bfs', '[SearchAgent] using problem type PositionSearchProblem', 'Path found with total cost of 68 in 0.0 seconds', 'Search nodes expanded: 269', 'Pacman emerges victorious! Score: 442', 'Average Score: 442.0', 'Scores:        442.0', 'Win Rate:      1/1 (1.00)', 'Record:        Win']\n"
     ]
    }
   ],
   "source": [
    "output = !python pacman.py -l mediumMaze -p SearchAgent -a fn=bfs 2>&1\n",
    "print(output)"
   ]
  },
  {
   "cell_type": "code",
   "execution_count": 10,
   "metadata": {},
   "outputs": [
    {
     "name": "stdout",
     "output_type": "stream",
     "text": [
      "['[SearchAgent] using function bfs', '[SearchAgent] using problem type PositionSearchProblem', 'Path found with total cost of 210 in 0.0 seconds', 'Search nodes expanded: 620', 'Pacman emerges victorious! Score: 300', 'Average Score: 300.0', 'Scores:        300.0', 'Win Rate:      1/1 (1.00)', 'Record:        Win']\n"
     ]
    }
   ],
   "source": [
    "output = !python pacman.py -l bigMaze -p SearchAgent -a fn=bfs -z .5 2>&1\n",
    "print(output)"
   ]
  },
  {
   "cell_type": "markdown",
   "metadata": {},
   "source": [
    "# Q3"
   ]
  },
  {
   "cell_type": "code",
   "execution_count": 11,
   "metadata": {},
   "outputs": [
    {
     "name": "stdout",
     "output_type": "stream",
     "text": [
      "['[SearchAgent] using function ucs', '[SearchAgent] using problem type PositionSearchProblem', 'Path found with total cost of 68 in 0.0 seconds', 'Search nodes expanded: 269', 'Pacman emerges victorious! Score: 442', 'Average Score: 442.0', 'Scores:        442.0', 'Win Rate:      1/1 (1.00)', 'Record:        Win']\n"
     ]
    }
   ],
   "source": [
    "output = !python pacman.py -l mediumMaze -p SearchAgent -a fn=ucs\n",
    "print(output)"
   ]
  },
  {
   "cell_type": "code",
   "execution_count": null,
   "metadata": {},
   "outputs": [
    {
     "name": "stdout",
     "output_type": "stream",
     "text": [
      "['Path found with total cost of 1 in 0.0 seconds', 'Search nodes expanded: 186', 'Pacman emerges victorious! Score: 646', 'Average Score: 646.0', 'Scores:        646.0', 'Win Rate:      1/1 (1.00)', 'Record:        Win']\n"
     ]
    }
   ],
   "source": [
    "output = !python pacman.py -l mediumDottedMaze -p StayEastSearchAgent 2>&1\n",
    "print(output)"
   ]
  },
  {
   "cell_type": "code",
   "execution_count": null,
   "metadata": {},
   "outputs": [
    {
     "name": "stdout",
     "output_type": "stream",
     "text": [
      "['Path found with total cost of 68719479864 in 0.0 seconds', 'Search nodes expanded: 108', 'Pacman emerges victorious! Score: 418', 'Average Score: 418.0', 'Scores:        418.0', 'Win Rate:      1/1 (1.00)', 'Record:        Win']\n"
     ]
    }
   ],
   "source": [
    "output = !python pacman.py -l mediumScaryMaze -p StayWestSearchAgent 2>&1\n",
    "print(output)"
   ]
  },
  {
   "cell_type": "markdown",
   "metadata": {},
   "source": [
    "# Q4"
   ]
  },
  {
   "cell_type": "code",
   "execution_count": 11,
   "metadata": {},
   "outputs": [
    {
     "name": "stdout",
     "output_type": "stream",
     "text": [
      "['[SearchAgent] using function astar and heuristic manhattanHeuristic', '[SearchAgent] using problem type PositionSearchProblem', 'Path found with total cost of 210 in 0.0 seconds', 'Search nodes expanded: 549']\n"
     ]
    }
   ],
   "source": [
    "output = !python pacman.py -l bigMaze -z .5 -p SearchAgent -a fn=astar,heuristic=manhattanHeuristic 2>&1\n",
    "print(output)"
   ]
  },
  {
   "cell_type": "markdown",
   "metadata": {},
   "source": [
    "# Q5"
   ]
  },
  {
   "cell_type": "code",
   "execution_count": 12,
   "metadata": {},
   "outputs": [
    {
     "name": "stdout",
     "output_type": "stream",
     "text": [
      "['[SearchAgent] using function bfs', '[SearchAgent] using problem type CornersProblem', 'Path found with total cost of 28 in 0.0 seconds', 'Search nodes expanded: 252', 'Pacman emerges victorious! Score: 512', 'Average Score: 512.0', 'Scores:        512.0', 'Win Rate:      1/1 (1.00)', 'Record:        Win']\n"
     ]
    }
   ],
   "source": [
    "output = !python pacman.py -l tinyCorners -p SearchAgent -a fn=bfs,prob=CornersProblem 2>&1\n",
    "print(output)"
   ]
  },
  {
   "cell_type": "code",
   "execution_count": 13,
   "metadata": {},
   "outputs": [
    {
     "name": "stdout",
     "output_type": "stream",
     "text": [
      "['[SearchAgent] using function bfs', '[SearchAgent] using problem type CornersProblem', 'Path found with total cost of 106 in 0.1 seconds', 'Search nodes expanded: 1966', 'Pacman emerges victorious! Score: 434', 'Average Score: 434.0', 'Scores:        434.0', 'Win Rate:      1/1 (1.00)', 'Record:        Win']\n"
     ]
    }
   ],
   "source": [
    "output = !python pacman.py -l mediumCorners -p SearchAgent -a fn=bfs,prob=CornersProblem 2>&1\n",
    "print(output)"
   ]
  },
  {
   "cell_type": "markdown",
   "metadata": {},
   "source": []
  },
  {
   "cell_type": "markdown",
   "metadata": {},
   "source": [
    "# Q6"
   ]
  },
  {
   "cell_type": "code",
   "execution_count": 6,
   "metadata": {},
   "outputs": [
    {
     "name": "stdout",
     "output_type": "stream",
     "text": [
      "['Path found with total cost of 106 in 0.0 seconds', 'Search nodes expanded: 692', 'Pacman emerges victorious! Score: 434', 'Average Score: 434.0', 'Scores:        434.0', 'Win Rate:      1/1 (1.00)', 'Record:        Win']\n"
     ]
    }
   ],
   "source": [
    "output = !python pacman.py -l mediumCorners -p AStarCornersAgent -z 0.5 2>&1\n",
    "print(output)"
   ]
  },
  {
   "cell_type": "markdown",
   "metadata": {},
   "source": [
    "# Q7"
   ]
  },
  {
   "cell_type": "code",
   "execution_count": 2,
   "metadata": {},
   "outputs": [
    {
     "name": "stdout",
     "output_type": "stream",
     "text": [
      "['Path found with total cost of 7 in 0.0 seconds', 'Search nodes expanded: 12', 'Pacman emerges victorious! Score: 513', 'Average Score: 513.0', 'Scores:        513.0', 'Win Rate:      1/1 (1.00)', 'Record:        Win']\n"
     ]
    }
   ],
   "source": [
    "output = !python pacman.py -l testSearch -p AStarFoodSearchAgent 2>&1\n",
    "print(output)"
   ]
  },
  {
   "cell_type": "code",
   "execution_count": 3,
   "metadata": {},
   "outputs": [
    {
     "name": "stdout",
     "output_type": "stream",
     "text": [
      "['Path found with total cost of 60 in 3.5 seconds', 'Search nodes expanded: 7553', 'Pacman emerges victorious! Score: 570', 'Average Score: 570.0', 'Scores:        570.0', 'Win Rate:      1/1 (1.00)', 'Record:        Win']\n"
     ]
    }
   ],
   "source": [
    "output = !python pacman.py -l trickySearch -p AStarFoodSearchAgent 2>&1\n",
    "print(output)"
   ]
  },
  {
   "cell_type": "markdown",
   "metadata": {},
   "source": [
    "# Q8"
   ]
  },
  {
   "cell_type": "code",
   "execution_count": 9,
   "metadata": {},
   "outputs": [
    {
     "name": "stdout",
     "output_type": "stream",
     "text": [
      "['[SearchAgent] using function depthFirstSearch', '[SearchAgent] using problem type PositionSearchProblem', 'Path found with cost 350.', 'Pacman emerges victorious! Score: 2360', 'Average Score: 2360.0', 'Scores:        2360.0', 'Win Rate:      1/1 (1.00)', 'Record:        Win']\n"
     ]
    }
   ],
   "source": [
    "output = !python pacman.py -l bigSearch -p ClosestDotSearchAgent -z .5  2>&1\n",
    "print(output)"
   ]
  },
  {
   "cell_type": "markdown",
   "metadata": {},
   "source": [
    "# Autograder"
   ]
  },
  {
   "cell_type": "code",
   "execution_count": 16,
   "metadata": {},
   "outputs": [
    {
     "name": "stdout",
     "output_type": "stream",
     "text": [
      "[\"c:\\\\Users\\\\carlo\\\\Documents\\\\GitHub\\\\PacmanIA\\\\proj1-search-python3\\\\autograder.py:17: DeprecationWarning: the imp module is deprecated in favour of importlib and slated for removal in Python 3.12; see the module's documentation for alternative uses\", '  import imp', 'Starting on 11-15 at 23:54:50', '', 'Question q1', '===========', '*** PASS: test_cases\\\\q1\\\\graph_backtrack.test', \"*** \\tsolution:\\t\\t['1:A->C', '0:C->G']\", \"*** \\texpanded_states:\\t['A', 'D', 'C']\", '*** PASS: test_cases\\\\q1\\\\graph_bfs_vs_dfs.test', \"*** \\tsolution:\\t\\t['2:A->D', '0:D->G']\", \"*** \\texpanded_states:\\t['A', 'D']\", '*** PASS: test_cases\\\\q1\\\\graph_infinite.test', \"*** \\tsolution:\\t\\t['0:A->B', '1:B->C', '1:C->G']\", \"*** \\texpanded_states:\\t['A', 'B', 'C']\", '*** PASS: test_cases\\\\q1\\\\graph_manypaths.test', \"*** \\tsolution:\\t\\t['2:A->B2', '0:B2->C', '0:C->D', '2:D->E2', '0:E2->F', '0:F->G']\", \"*** \\texpanded_states:\\t['A', 'B2', 'C', 'D', 'E2', 'F']\", '*** PASS: test_cases\\\\q1\\\\pacman_1.test', '*** \\tpacman layout:\\t\\tmediumMaze', '*** \\tsolution length: 130', '*** \\tnodes expanded:\\t\\t146', '', '### Question q1: 3/3 ###', '', '', 'Question q2', '===========', '*** PASS: test_cases\\\\q2\\\\graph_backtrack.test', \"*** \\tsolution:\\t\\t['1:A->C', '0:C->G']\", \"*** \\texpanded_states:\\t['A', 'B', 'C', 'D']\", '*** PASS: test_cases\\\\q2\\\\graph_bfs_vs_dfs.test', \"*** \\tsolution:\\t\\t['1:A->G']\", \"*** \\texpanded_states:\\t['A', 'B']\", '*** PASS: test_cases\\\\q2\\\\graph_infinite.test', \"*** \\tsolution:\\t\\t['0:A->B', '1:B->C', '1:C->G']\", \"*** \\texpanded_states:\\t['A', 'B', 'C']\", '*** PASS: test_cases\\\\q2\\\\graph_manypaths.test', \"*** \\tsolution:\\t\\t['1:A->C', '0:C->D', '1:D->F', '0:F->G']\", \"*** \\texpanded_states:\\t['A', 'B1', 'C', 'B2', 'D', 'E1', 'F', 'E2']\", '*** PASS: test_cases\\\\q2\\\\pacman_1.test', '*** \\tpacman layout:\\t\\tmediumMaze', '*** \\tsolution length: 68', '*** \\tnodes expanded:\\t\\t269', '', '### Question q2: 3/3 ###', '', '', 'Question q3', '===========', '*** PASS: test_cases\\\\q3\\\\graph_backtrack.test', \"*** \\tsolution:\\t\\t['1:A->C', '0:C->G']\", \"*** \\texpanded_states:\\t['A', 'B', 'C', 'D']\", '*** PASS: test_cases\\\\q3\\\\graph_bfs_vs_dfs.test', \"*** \\tsolution:\\t\\t['1:A->G']\", \"*** \\texpanded_states:\\t['A', 'B']\", '*** PASS: test_cases\\\\q3\\\\graph_infinite.test', \"*** \\tsolution:\\t\\t['0:A->B', '1:B->C', '1:C->G']\", \"*** \\texpanded_states:\\t['A', 'B', 'C']\", '*** PASS: test_cases\\\\q3\\\\graph_manypaths.test', \"*** \\tsolution:\\t\\t['1:A->C', '0:C->D', '1:D->F', '0:F->G']\", \"*** \\texpanded_states:\\t['A', 'B1', 'C', 'B2', 'D', 'E1', 'F', 'E2']\", '*** PASS: test_cases\\\\q3\\\\ucs_0_graph.test', \"*** \\tsolution:\\t\\t['Right', 'Down', 'Down']\", \"*** \\texpanded_states:\\t['A', 'B', 'D', 'C', 'G']\", '*** PASS: test_cases\\\\q3\\\\ucs_1_problemC.test', '*** \\tpacman layout:\\t\\tmediumMaze', '*** \\tsolution length: 68', '*** \\tnodes expanded:\\t\\t269', '*** PASS: test_cases\\\\q3\\\\ucs_2_problemE.test', '*** \\tpacman layout:\\t\\tmediumMaze', '*** \\tsolution length: 74', '*** \\tnodes expanded:\\t\\t260', '*** PASS: test_cases\\\\q3\\\\ucs_3_problemW.test', '*** \\tpacman layout:\\t\\tmediumMaze', '*** \\tsolution length: 152', '*** \\tnodes expanded:\\t\\t173', '*** PASS: test_cases\\\\q3\\\\ucs_4_testSearch.test', '*** \\tpacman layout:\\t\\ttestSearch', '*** \\tsolution length: 7', '*** \\tnodes expanded:\\t\\t14', '*** PASS: test_cases\\\\q3\\\\ucs_5_goalAtDequeue.test', \"*** \\tsolution:\\t\\t['1:A->B', '0:B->C', '0:C->G']\", \"*** \\texpanded_states:\\t['A', 'B', 'C']\", '', '### Question q3: 3/3 ###', '', '', 'Question q4', '===========', '*** PASS: test_cases\\\\q4\\\\astar_0.test', \"*** \\tsolution:\\t\\t['Right', 'Down', 'Down']\", \"*** \\texpanded_states:\\t['A', 'B', 'D', 'C', 'G']\", '*** PASS: test_cases\\\\q4\\\\astar_1_graph_heuristic.test', \"*** \\tsolution:\\t\\t['0', '0', '2']\", \"*** \\texpanded_states:\\t['S', 'A', 'D', 'C']\", '*** PASS: test_cases\\\\q4\\\\astar_2_manhattan.test', '*** \\tpacman layout:\\t\\tmediumMaze', '*** \\tsolution length: 68', '*** \\tnodes expanded:\\t\\t221', '*** PASS: test_cases\\\\q4\\\\astar_3_goalAtDequeue.test', \"*** \\tsolution:\\t\\t['1:A->B', '0:B->C', '0:C->G']\", \"*** \\texpanded_states:\\t['A', 'B', 'C']\", '*** PASS: test_cases\\\\q4\\\\graph_backtrack.test', \"*** \\tsolution:\\t\\t['1:A->C', '0:C->G']\", \"*** \\texpanded_states:\\t['A', 'B', 'C', 'D']\", '*** PASS: test_cases\\\\q4\\\\graph_manypaths.test', \"*** \\tsolution:\\t\\t['1:A->C', '0:C->D', '1:D->F', '0:F->G']\", \"*** \\texpanded_states:\\t['A', 'B1', 'C', 'B2', 'D', 'E1', 'F', 'E2']\", '', '### Question q4: 3/3 ###', '', '', 'Question q5', '===========', '*** PASS: test_cases\\\\q5\\\\corner_tiny_corner.test', '*** \\tpacman layout:\\t\\ttinyCorner', '*** \\tsolution length:\\t\\t28', '', '### Question q5: 3/3 ###', '', '', 'Question q6', '===========', '*** PASS: heuristic value less than true cost at start state', '*** PASS: heuristic value less than true cost at start state', '*** PASS: heuristic value less than true cost at start state', \"path: ['North', 'East', 'East', 'East', 'East', 'North', 'North', 'West', 'West', 'West', 'West', 'North', 'North', 'North', 'North', 'North', 'North', 'North', 'North', 'West', 'West', 'West', 'West', 'South', 'South', 'East', 'East', 'East', 'East', 'South', 'South', 'South', 'South', 'South', 'South', 'West', 'West', 'South', 'South', 'South', 'West', 'West', 'East', 'East', 'North', 'North', 'North', 'East', 'East', 'East', 'East', 'East', 'East', 'East', 'East', 'South', 'South', 'East', 'East', 'East', 'East', 'East', 'North', 'North', 'East', 'East', 'North', 'North', 'East', 'East', 'North', 'North', 'East', 'East', 'East', 'East', 'South', 'South', 'South', 'South', 'East', 'East', 'North', 'North', 'East', 'East', 'South', 'South', 'South', 'South', 'South', 'North', 'North', 'North', 'North', 'North', 'North', 'North', 'West', 'West', 'North', 'North', 'East', 'East', 'North', 'North']\", 'path length: 106', '*** PASS: Heuristic resulted in expansion of 692 nodes', '', '### Question q6: 3/3 ###', '', '', 'Question q7', '===========', '*** PASS: test_cases\\\\q7\\\\food_heuristic_1.test', '*** PASS: test_cases\\\\q7\\\\food_heuristic_10.test', '*** PASS: test_cases\\\\q7\\\\food_heuristic_11.test', '*** PASS: test_cases\\\\q7\\\\food_heuristic_12.test', '*** PASS: test_cases\\\\q7\\\\food_heuristic_13.test', '*** PASS: test_cases\\\\q7\\\\food_heuristic_14.test', '*** PASS: test_cases\\\\q7\\\\food_heuristic_15.test', '*** PASS: test_cases\\\\q7\\\\food_heuristic_16.test', '*** PASS: test_cases\\\\q7\\\\food_heuristic_17.test', '*** PASS: test_cases\\\\q7\\\\food_heuristic_2.test', '*** PASS: test_cases\\\\q7\\\\food_heuristic_3.test', '*** PASS: test_cases\\\\q7\\\\food_heuristic_4.test', '*** PASS: test_cases\\\\q7\\\\food_heuristic_5.test', '*** PASS: test_cases\\\\q7\\\\food_heuristic_6.test', '*** PASS: test_cases\\\\q7\\\\food_heuristic_7.test', '*** PASS: test_cases\\\\q7\\\\food_heuristic_8.test', '*** PASS: test_cases\\\\q7\\\\food_heuristic_9.test', '*** FAIL: test_cases\\\\q7\\\\food_heuristic_grade_tricky.test', '*** \\texpanded nodes: 7553', '*** \\tthresholds: [15000, 12000, 9000, 7000]', '', '### Question q7: 4/4 ###', '', '', 'Question q8', '===========', '[SearchAgent] using function depthFirstSearch', '[SearchAgent] using problem type PositionSearchProblem', '*** PASS: test_cases\\\\q8\\\\closest_dot_1.test', '*** \\tpacman layout:\\t\\tTest 1', '*** \\tsolution length:\\t\\t1', '[SearchAgent] using function depthFirstSearch', '[SearchAgent] using problem type PositionSearchProblem', '*** PASS: test_cases\\\\q8\\\\closest_dot_10.test', '*** \\tpacman layout:\\t\\tTest 10', '*** \\tsolution length:\\t\\t1', '[SearchAgent] using function depthFirstSearch', '[SearchAgent] using problem type PositionSearchProblem', '*** PASS: test_cases\\\\q8\\\\closest_dot_11.test', '*** \\tpacman layout:\\t\\tTest 11', '*** \\tsolution length:\\t\\t2', '[SearchAgent] using function depthFirstSearch', '[SearchAgent] using problem type PositionSearchProblem', '*** PASS: test_cases\\\\q8\\\\closest_dot_12.test', '*** \\tpacman layout:\\t\\tTest 12', '*** \\tsolution length:\\t\\t3', '[SearchAgent] using function depthFirstSearch', '[SearchAgent] using problem type PositionSearchProblem', '*** PASS: test_cases\\\\q8\\\\closest_dot_13.test', '*** \\tpacman layout:\\t\\tTest 13', '*** \\tsolution length:\\t\\t1', '[SearchAgent] using function depthFirstSearch', '[SearchAgent] using problem type PositionSearchProblem', '*** PASS: test_cases\\\\q8\\\\closest_dot_2.test', '*** \\tpacman layout:\\t\\tTest 2', '*** \\tsolution length:\\t\\t1', '[SearchAgent] using function depthFirstSearch', '[SearchAgent] using problem type PositionSearchProblem', '*** PASS: test_cases\\\\q8\\\\closest_dot_3.test', '*** \\tpacman layout:\\t\\tTest 3', '*** \\tsolution length:\\t\\t1', '[SearchAgent] using function depthFirstSearch', '[SearchAgent] using problem type PositionSearchProblem', '*** PASS: test_cases\\\\q8\\\\closest_dot_4.test', '*** \\tpacman layout:\\t\\tTest 4', '*** \\tsolution length:\\t\\t3', '[SearchAgent] using function depthFirstSearch', '[SearchAgent] using problem type PositionSearchProblem', '*** PASS: test_cases\\\\q8\\\\closest_dot_5.test', '*** \\tpacman layout:\\t\\tTest 5', '*** \\tsolution length:\\t\\t1', '[SearchAgent] using function depthFirstSearch', '[SearchAgent] using problem type PositionSearchProblem', '*** PASS: test_cases\\\\q8\\\\closest_dot_6.test', '*** \\tpacman layout:\\t\\tTest 6', '*** \\tsolution length:\\t\\t2', '[SearchAgent] using function depthFirstSearch', '[SearchAgent] using problem type PositionSearchProblem', '*** PASS: test_cases\\\\q8\\\\closest_dot_7.test', '*** \\tpacman layout:\\t\\tTest 7', '*** \\tsolution length:\\t\\t1', '[SearchAgent] using function depthFirstSearch', '[SearchAgent] using problem type PositionSearchProblem', '*** PASS: test_cases\\\\q8\\\\closest_dot_8.test', '*** \\tpacman layout:\\t\\tTest 8', '*** \\tsolution length:\\t\\t1', '[SearchAgent] using function depthFirstSearch', '[SearchAgent] using problem type PositionSearchProblem', '*** PASS: test_cases\\\\q8\\\\closest_dot_9.test', '*** \\tpacman layout:\\t\\tTest 9', '*** \\tsolution length:\\t\\t1', '', '### Question q8: 3/3 ###', '', '', 'Finished at 23:54:53', '', 'Provisional grades', '==================', 'Question q1: 3/3', 'Question q2: 3/3', 'Question q3: 3/3', 'Question q4: 3/3', 'Question q5: 3/3', 'Question q6: 3/3', 'Question q7: 4/4', 'Question q8: 3/3', '------------------', 'Total: 25/25', '', 'Your grades are NOT yet registered.  To register your grades, make sure', \"to follow your instructor's guidelines to receive credit on your project.\", '']\n"
     ]
    }
   ],
   "source": [
    "output = !python autograder.py  2>&1\n",
    "print(output)"
   ]
  }
 ],
 "metadata": {
  "kernelspec": {
   "display_name": "Python 3",
   "language": "python",
   "name": "python3"
  },
  "language_info": {
   "codemirror_mode": {
    "name": "ipython",
    "version": 3
   },
   "file_extension": ".py",
   "mimetype": "text/x-python",
   "name": "python",
   "nbconvert_exporter": "python",
   "pygments_lexer": "ipython3",
   "version": "3.11.5"
  }
 },
 "nbformat": 4,
 "nbformat_minor": 2
}
